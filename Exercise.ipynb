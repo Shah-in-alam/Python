{
 "cells": [
  {
   "cell_type": "markdown",
   "metadata": {},
   "source": [
    "# Python Basic Week 03"
   ]
  },
  {
   "cell_type": "markdown",
   "metadata": {},
   "source": [
    "# List: \n",
    "### Write a python program that takes lists and returns a new list that contains  only commons in the both list"
   ]
  },
  {
   "cell_type": "code",
   "execution_count": 9,
   "metadata": {},
   "outputs": [
    {
     "name": "stdout",
     "output_type": "stream",
     "text": [
      "Common in the list:  [2, 3]\n"
     ]
    }
   ],
   "source": [
    "def commons(list1,list2):\n",
    "    common =[]\n",
    "    for i in list1:\n",
    "        if i in list2:\n",
    "            common.append(i)\n",
    "    return common\n",
    "\n",
    "list1 =[1,2,3,4,5,6]\n",
    "list2 =[2,8,9,12,3]\n",
    "\n",
    "common_elements =commons(list1,list2)\n",
    "print(\"Common in the list: \",common_elements)"
   ]
  },
  {
   "cell_type": "code",
   "execution_count": 28,
   "metadata": {},
   "outputs": [
    {
     "name": "stdout",
     "output_type": "stream",
     "text": [
      "Common_sum in the list:  21\n"
     ]
    }
   ],
   "source": [
    "def commons(list1,list2):\n",
    "    common_sum=0\n",
    "    \n",
    "    for i in list1:\n",
    "        if i in list2:\n",
    "            common_sum +=i\n",
    "    return common_sum\n",
    "\n",
    "list1 =[1,2,3,4,5,6,7,8]\n",
    "list2 =[1,2,3,4,5,6]\n",
    "\n",
    "common_sum=commons(list1,list2)\n",
    "print(\"Common_sum in the list: \",common_sum)"
   ]
  },
  {
   "cell_type": "markdown",
   "metadata": {},
   "source": [
    "#Teacher Solved answer:\n"
   ]
  },
  {
   "cell_type": "code",
   "execution_count": 2,
   "metadata": {},
   "outputs": [
    {
     "name": "stdout",
     "output_type": "stream",
     "text": [
      "Common in the list:  []\n"
     ]
    }
   ],
   "source": [
    "def commons(list1,list2):\n",
    "    common_list =[]\n",
    "    for L1 in list1:\n",
    "        if L1 in list2:\n",
    "            common_list.append(L1)\n",
    "    return common_list\n",
    "\n",
    "list1 =input().split(',')\n",
    "#list1 =[int(i) for i in list1]\n",
    "list2 =input().split(',')\n",
    "#list2 =[int(i) for i in list2]\n",
    "C= commons(list1,list2)\n",
    "print(\"Common in the list: \", C)"
   ]
  },
  {
   "cell_type": "markdown",
   "metadata": {},
   "source": [
    "##Tupple"
   ]
  },
  {
   "cell_type": "code",
   "execution_count": 3,
   "metadata": {},
   "outputs": [
    {
     "name": "stdout",
     "output_type": "stream",
     "text": [
      "0\n"
     ]
    }
   ],
   "source": [
    "def Sum(Tup):\n",
    "    Tup = Tup.split()\n",
    "    Tup =tuple(Tup)\n",
    "    totalSum =sum(int(T) for T in Tup if int (T)%2 ==0)\n",
    "    return totalSum\n",
    "\n",
    "Tup=input()\n",
    "print(Sum(Tup))"
   ]
  },
  {
   "cell_type": "code",
   "execution_count": 4,
   "metadata": {},
   "outputs": [
    {
     "name": "stdout",
     "output_type": "stream",
     "text": [
      "Squared list: [1522756]\n"
     ]
    }
   ],
   "source": [
    "def Squared(L):\n",
    "    L = [i**2 for i in L]\n",
    "    return L\n",
    "\n",
    "input_list = [int(i) for i in input(\"Enter space-separated numbers: \").split(',')]\n",
    "squared_list = Squared(input_list)\n",
    "print(\"Squared list:\", squared_list)\n"
   ]
  }
 ],
 "metadata": {
  "kernelspec": {
   "display_name": "Python 3",
   "language": "python",
   "name": "python3"
  },
  "language_info": {
   "codemirror_mode": {
    "name": "ipython",
    "version": 3
   },
   "file_extension": ".py",
   "mimetype": "text/x-python",
   "name": "python",
   "nbconvert_exporter": "python",
   "pygments_lexer": "ipython3",
   "version": "3.12.2"
  }
 },
 "nbformat": 4,
 "nbformat_minor": 2
}
