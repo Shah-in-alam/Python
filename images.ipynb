{
 "cells": [
  {
   "cell_type": "markdown",
   "metadata": {},
   "source": [
    "## Images : week 9 ALSO USE API , IMAGE,IMAGECHOES,"
   ]
  },
  {
   "cell_type": "code",
   "execution_count": 1,
   "metadata": {},
   "outputs": [],
   "source": [
    "import requests\n",
    "from bs4 import BeautifulSoup"
   ]
  },
  {
   "cell_type": "code",
   "execution_count": 2,
   "metadata": {
    "metadata": {}
   },
   "outputs": [
    {
     "name": "stdout",
     "output_type": "stream",
     "text": [
      "Chuck Norris is the one that establishes all 'No man's lands'\n"
     ]
    }
   ],
   "source": [
    "url=\"https://api.chucknorris.io/jokes/random\"\n",
    "response=requests.get(url)\n",
    "print(response.json()[\"value\"])\n",
    "#part-2 of \n",
    "url1=\"https://en.wikipedia.org/wiki/Chuck_Norrish\"\n",
    "response=requests.get(url1)\n",
    "soup=BeautifulSoup(response.text)\n",
    "img_tags=soup.find_all(\"img\")\n",
    "\n",
    "for img in img_tags:\n",
    "    if img[\"src\"].endswith(\"jpg\"):\n",
    "        parts=img[\"src\"].split(\"/\")\n",
    "        with open(\"Img/\"+parts[-1],\"wb\") as imagefile:\n",
    "            response=requests.get(\"http:\"+img[\"src\"])\n",
    "            imagefile=imagefile.write(response.content)\n",
    "            print('Downloded'),parts[-1]"
   ]
  },
  {
   "cell_type": "code",
   "execution_count": 3,
   "metadata": {
    "metadata": {}
   },
   "outputs": [],
   "source": [
    "import requests\n",
    "from bs4 import BeautifulSoup\n",
    "url=\"https://en.wikipedia.org/wiki/Mr._Bean\"\n",
    "response = requests.get(url)\n",
    "soup =BeautifulSoup(response.text)\n",
    "img_tags=soup.find_all(\"img\")\n",
    "for img in img_tags:\n",
    "    if img[\"src\"].endswith(\"img\"):\n",
    "        parts =img[\"src\"].split(\"/\")\n",
    "        with open (\"mrbean/\"+parts[-1],\"wb\") as imagefile:\n",
    "            response=requests.get(\"http:\"+img[\"src\"])\n",
    "            imagefile=imagefile.write(response.content)\n",
    "            print('Downloded'),parts[-1]\n",
    "            \n"
   ]
  },
  {
   "cell_type": "markdown",
   "metadata": {},
   "source": [
    "# Google location API: lets try it\n"
   ]
  },
  {
   "cell_type": "code",
   "execution_count": 4,
   "metadata": {
    "metadata": {}
   },
   "outputs": [
    {
     "name": "stdout",
     "output_type": "stream",
     "text": [
      "Opening Google Maps for location: Thomas More University, Thomas More Parkway, Crestview Hills, KY, USA\n",
      "Opening Google Maps for location: Thomas More University Biology Field Station, Mary Ingles Highway, California, KY, USA\n",
      "Opening Google Maps for location: Thomas More University Library, Thomas More Parkway, Crestview Hills, KY, USA\n",
      "Opening Google Maps for location: Thomas More University Electric vehicle parking, College Park Drive, Crestview Hills, KY, USA\n",
      "Opening Google Maps for location: Thomas More University Office of Admissions, Thomas More Parkway, Crestview Hills, KY, USA\n"
     ]
    }
   ],
   "source": [
    "\n",
    "import requests\n",
    "import webbrowser\n",
    "\n",
    "url = \"https://map-places.p.rapidapi.com/queryautocomplete/json\"\n",
    "#querystring = {\"input\":\"pizza near Sydney\",\"radius\":\"50000\"}\n",
    "#querystring = {\"input\":\"hotel near me\",\"radius\":\"50000\"}\n",
    "text = {\"input\": input(\"Enter something: \"),\"radius\": \"30000\"}\n",
    "\n",
    "headers = {\n",
    "    \"X-RapidAPI-Key\": \"961405f6b0msh2e965accdad6a1ep17edc9jsn10bd7f0b37f5\",\n",
    "    \"X-RapidAPI-Host\": \"map-places.p.rapidapi.com\"\n",
    "}\n",
    "response = requests.get(url, headers=headers, params=text)\n",
    "data = response.json()\n",
    "\n",
    "if 'predictions' in data:\n",
    "    for prediction in data['predictions']:\n",
    "        if 'description' in prediction:\n",
    "            maps_url = f\"https://www.google.com/maps/search/?api=1&query={prediction['description'].replace(' ', '+')}\"\n",
    "            print(f\"Opening Google Maps for location: {prediction['description']}\")\n",
    "            webbrowser.open(maps_url)\n",
    "else:\n",
    "    print(\"No predictions found.\")\n"
   ]
  },
  {
   "cell_type": "markdown",
   "metadata": {},
   "source": [
    "## Access US and CA property data in JSON, CSV, or Excel formats. Search listings, compare zestimate home values, and discover agent details.\n",
    "\n",
    "US and CA real estate data. Search millions of for-sale and rental listings by address, neighborhood, city, or ZIP code, compare Zestimate home values. Get agents details and their listings.\n",
    "Now offering data retrieval in JSON, CSV, and XLS formats."
   ]
  },
  {
   "cell_type": "code",
   "execution_count": 6,
   "metadata": {},
   "outputs": [
    {
     "ename": "KeyError",
     "evalue": "'value'",
     "output_type": "error",
     "traceback": [
      "\u001b[1;31m---------------------------------------------------------------------------\u001b[0m",
      "\u001b[1;31mKeyError\u001b[0m                                  Traceback (most recent call last)",
      "Cell \u001b[1;32mIn[6], line 14\u001b[0m\n\u001b[0;32m      7\u001b[0m headers \u001b[38;5;241m=\u001b[39m {\n\u001b[0;32m      8\u001b[0m \t\u001b[38;5;124m\"\u001b[39m\u001b[38;5;124mX-RapidAPI-Key\u001b[39m\u001b[38;5;124m\"\u001b[39m: \u001b[38;5;124m\"\u001b[39m\u001b[38;5;124m961405f6b0msh2e965accdad6a1ep17edc9jsn10bd7f0b37f5\u001b[39m\u001b[38;5;124m\"\u001b[39m,\n\u001b[0;32m      9\u001b[0m \t\u001b[38;5;124m\"\u001b[39m\u001b[38;5;124mX-RapidAPI-Host\u001b[39m\u001b[38;5;124m\"\u001b[39m: \u001b[38;5;124m\"\u001b[39m\u001b[38;5;124mzillow56.p.rapidapi.com\u001b[39m\u001b[38;5;124m\"\u001b[39m\n\u001b[0;32m     10\u001b[0m }\n\u001b[0;32m     12\u001b[0m response \u001b[38;5;241m=\u001b[39m requests\u001b[38;5;241m.\u001b[39mget(url, headers\u001b[38;5;241m=\u001b[39mheaders, params\u001b[38;5;241m=\u001b[39mquerystring)\n\u001b[1;32m---> 14\u001b[0m \u001b[38;5;28mprint\u001b[39m(\u001b[43mresponse\u001b[49m\u001b[38;5;241;43m.\u001b[39;49m\u001b[43mjson\u001b[49m\u001b[43m(\u001b[49m\u001b[43m)\u001b[49m\u001b[43m[\u001b[49m\u001b[38;5;124;43m\"\u001b[39;49m\u001b[38;5;124;43mvalue\u001b[39;49m\u001b[38;5;124;43m\"\u001b[39;49m\u001b[43m]\u001b[49m)\n",
      "\u001b[1;31mKeyError\u001b[0m: 'value'"
     ]
    }
   ],
   "source": [
    "import requests\n",
    "\n",
    "url = \"https://zillow56.p.rapidapi.com/search\"\n",
    "\n",
    "querystring = {\"location\":\"houston, tx\"}\n",
    "\n",
    "headers = {\n",
    "\t\"X-RapidAPI-Key\": \"961405f6b0msh2e965accdad6a1ep17edc9jsn10bd7f0b37f5\",\n",
    "\t\"X-RapidAPI-Host\": \"zillow56.p.rapidapi.com\"\n",
    "}\n",
    "\n",
    "response = requests.get(url, headers=headers, params=querystring)\n",
    "\n",
    "print(response.json()[\"value\"])\n"
   ]
  },
  {
   "cell_type": "code",
   "execution_count": 7,
   "metadata": {
    "metadata": {}
   },
   "outputs": [
    {
     "name": "stdout",
     "output_type": "stream",
     "text": [
      "Collecting serpapi\n",
      "  Downloading serpapi-0.1.5-py2.py3-none-any.whl.metadata (10 kB)\n",
      "Requirement already satisfied: requests in c:\\users\\mohammad miraz\\appdata\\local\\programs\\python\\python312\\lib\\site-packages (from serpapi) (2.31.0)\n",
      "Requirement already satisfied: charset-normalizer<4,>=2 in c:\\users\\mohammad miraz\\appdata\\local\\programs\\python\\python312\\lib\\site-packages (from requests->serpapi) (3.3.2)\n",
      "Requirement already satisfied: idna<4,>=2.5 in c:\\users\\mohammad miraz\\appdata\\local\\programs\\python\\python312\\lib\\site-packages (from requests->serpapi) (3.6)\n",
      "Requirement already satisfied: urllib3<3,>=1.21.1 in c:\\users\\mohammad miraz\\appdata\\local\\programs\\python\\python312\\lib\\site-packages (from requests->serpapi) (2.2.1)\n",
      "Requirement already satisfied: certifi>=2017.4.17 in c:\\users\\mohammad miraz\\appdata\\local\\programs\\python\\python312\\lib\\site-packages (from requests->serpapi) (2024.2.2)\n",
      "Downloading serpapi-0.1.5-py2.py3-none-any.whl (10 kB)\n",
      "Installing collected packages: serpapi\n",
      "Successfully installed serpapi-0.1.5\n"
     ]
    }
   ],
   "source": [
    "! pip install serpapi"
   ]
  },
  {
   "cell_type": "code",
   "execution_count": null,
   "metadata": {},
   "outputs": [
    {
     "name": "stdout",
     "output_type": "stream",
     "text": [
      "Requirement already satisfied: Pillow in c:\\users\\mohammad miraz\\appdata\\local\\programs\\python\\python312\\lib\\site-packages (10.2.0)\n"
     ]
    }
   ],
   "source": [
    "! pip install Pillow"
   ]
  },
  {
   "cell_type": "code",
   "execution_count": 15,
   "metadata": {},
   "outputs": [
    {
     "name": "stdout",
     "output_type": "stream",
     "text": [
      "(0, 0, 255, 255)\n",
      "(255, 192, 203, 255)\n",
      "(255, 0, 255, 255)\n",
      "(210, 105, 30, 255)\n",
      "(0, 0, 0, 255)\n",
      "(255, 0, 0, 255)\n",
      "(0, 128, 0, 255)\n"
     ]
    }
   ],
   "source": [
    "from PIL import  ImageColor\n",
    "print(ImageColor.getcolor('blue','RGBA'))\n",
    "print(ImageColor.getcolor('pink','RGBA'))\n",
    "print(ImageColor.getcolor('magenta','RGBA'))\n",
    "print(ImageColor.getcolor('chocolate','RGBA'))\n",
    "print(ImageColor.getcolor('black','RGBA'))\n",
    "print(ImageColor.getcolor('red','RGBA'))\n",
    "print(ImageColor.getcolor('green','RGBA'))"
   ]
  },
  {
   "cell_type": "markdown",
   "metadata": {},
   "source": [
    "Download the color.txt filter\n",
    "- AlicaBlue\n",
    "- AntiiqueWhite\n",
    "- Aquea\n",
    "-----\n",
    "and create a csv file in the"
   ]
  },
  {
   "cell_type": "code",
   "execution_count": 1,
   "metadata": {},
   "outputs": [],
   "source": [
    "\n",
    "from PIL import ImageColor\n",
    "csvfile = open(\"colours.csv\", \"w\")\n",
    "csvfile.write(\"Colours,Red,Green,Blue,Alpha\\n\")\n",
    "with open(\"colours.txt\", 'r') as file:\n",
    "    for colour in file.readlines():\n",
    "        colourname = colour.strip()\n",
    "        rgba = ImageColor.getcolor(colourname, 'RGBA')\n",
    "        csvfile.write(colourname + \"-\" + str(rgba[0]) + \",\" + str(rgba[1]) + \",\" + str(rgba[2]) + \",\" + str(rgba[3]) + \"\\n\")\n",
    "csvfile.close()\n"
   ]
  },
  {
   "cell_type": "markdown",
   "metadata": {},
   "source": [
    "### Manipulition of images\n",
    "<img src>"
   ]
  },
  {
   "cell_type": "code",
   "execution_count": null,
   "metadata": {},
   "outputs": [
    {
     "name": "stdout",
     "output_type": "stream",
     "text": [
      "<PIL.JpegImagePlugin.JpegImageFile image mode=RGB size=640x424 at 0x206E4212F60>\n",
      "424 640\n",
      "(640, 424)\n",
      "640\n",
      "bird.jpg\n",
      "JPEG\n",
      "JPEG (ISO 10918)\n",
      "Portable network graphics\n"
     ]
    }
   ],
   "source": [
    "from PIL import Image\n",
    "img =Image.open(\"bird.jpg\")\n",
    "print(img)\n",
    "print(img.height, img.width)\n",
    "print(img.size)\n",
    "width,height =img.size\n",
    "print(width)\n",
    "print(img.filename)\n",
    "print(img.format)\n",
    "img.show()\n",
    "#change foormat\n",
    "print(img.format_description)\n",
    "img.save(\"bird.png\")\n",
    "pngimg= Image.open(\"bird.png\")\n",
    "print(pngimg.format_description)\n"
   ]
  },
  {
   "cell_type": "markdown",
   "metadata": {},
   "source": [
    "### Cropping Images"
   ]
  },
  {
   "cell_type": "code",
   "execution_count": 17,
   "metadata": {},
   "outputs": [],
   "source": [
    "from PIL import Image\n",
    "#IMPORTANT : CHECK\n",
    "img =Image.open(\"bird.jpg\")\n",
    "img =img.crop((260,150,400,370))\n",
    "img.save(\"cropped_bird.jpg\")\n",
    "img.show()"
   ]
  },
  {
   "cell_type": "code",
   "execution_count": 25,
   "metadata": {},
   "outputs": [],
   "source": [
    "from PIL import Image\n",
    "img =Image.open(\"picture.jpg\")\n",
    "img =img.crop((500,450,650,570))\n",
    "img.save(\"cropped_picture.jpg\")\n",
    "img.show()\n"
   ]
  },
  {
   "cell_type": "markdown",
   "metadata": {},
   "source": [
    "### Creating imagesss "
   ]
  },
  {
   "cell_type": "code",
   "execution_count": 27,
   "metadata": {},
   "outputs": [],
   "source": [
    "from PIL import Image\n",
    "img =Image.new('RGBA',(100,200),'rebeccapurple')\n",
    "img.save(\"rebacapurple.png\")\n",
    "img.show()\n",
    "\n",
    "img =Image.new('RGBA',(20,20))\n",
    "img.save(\"transpra.png\")\n",
    "img.show()\n",
    "\n",
    "img =Image.new('RGBA',(200,200,),(78))"
   ]
  },
  {
   "cell_type": "code",
   "execution_count": 29,
   "metadata": {},
   "outputs": [],
   "source": [
    "from PIL import Image\n",
    "img =Image.open(\"bird.jpg\")\n",
    "crop =img.crop((260,150,400,370))\n",
    "copyimg =img.copy()\n",
    "copyimg.paste(crop, (0,0))\n",
    "copyimg.paste(crop,(500,0))\n",
    "copyimg.paste(crop,(300,100))\n",
    "copyimg.save(\"bird2.jpg\")\n"
   ]
  },
  {
   "cell_type": "code",
   "execution_count": 30,
   "metadata": {},
   "outputs": [],
   "source": [
    "from PIL import Image\n",
    "img =Image.open(\"picture.jpg\")\n",
    "crop =img.crop((260,150,400,370))\n",
    "copyimg=img.crop()\n",
    "copyimg.paste(crop,(0,0))\n",
    "copyimg.paste(crop,(500,0))\n",
    "copyimg.paste(crop,(300,100))\n",
    "copyimg.save(\"picture2.jpg\")"
   ]
  },
  {
   "cell_type": "code",
   "execution_count": 32,
   "metadata": {},
   "outputs": [],
   "source": [
    "#CHESBOAR \n",
    "from PIL import Image\n",
    "img =Image.new('RGBA',(400,200),\"lightblue\")\n",
    "cropped=Image.open(\"cropped_bird.jpg\")\n",
    "\n",
    "copy =cropped.copy()\n",
    "img.paste(crop,(0,0))\n",
    "img.save(\"aliceblue.gif\")\n",
    "\n",
    "img =Image.new('RGBA',(cropped.width *10, cropped.height*10), \"white\")\n",
    "for i in range(0,10):\n",
    "    for j in range (0,10):\n",
    "        if (i+j) % 2 ==0:\n",
    "            img.paste(copy,(i* cropped.width, j*cropped.height))\n",
    "\n",
    "img.save(\"birdies.gif\")\n",
    "img.show()"
   ]
  },
  {
   "cell_type": "markdown",
   "metadata": {},
   "source": [
    "#My Exercise: Check board same as upper one"
   ]
  },
  {
   "cell_type": "code",
   "execution_count": 36,
   "metadata": {},
   "outputs": [],
   "source": [
    "#My Exercise: Check board same as upper one\n",
    "from PIL import Image \n",
    "img =Image.new('RGBA',(400,200), \"lightgreen\")\n",
    "cropped =Image.open('cropped_picture.jpg')\n",
    "copy=cropped.copy()\n",
    "img.paste(crop,(0,0))\n",
    "img.save(\"shain.gif\")\n",
    "img = Image.new('RGBA',(cropped.width*10, cropped.height*10), \"white\")\n",
    "for i in range(0,10):\n",
    "    for j in range(0,10):\n",
    "        if (i+j) %2 ==0:\n",
    "            img.paste(copy, (i*cropped.width, j*cropped.height))\n",
    "\n",
    "img.save(\"pictuies.gif\")\n",
    "img.show()\n"
   ]
  },
  {
   "cell_type": "code",
   "execution_count": 38,
   "metadata": {},
   "outputs": [],
   "source": [
    "from PIL import Image \n",
    "img =Image.new('RGBA',(400,200), \"lightgreen\")\n",
    "cropped =Image.open('murgi.jpg')\n",
    "copy=cropped.copy()\n",
    "img.paste(crop,(0,0))\n",
    "img.save(\"murgigg.gif\")\n",
    "img = Image.new('RGBA',(cropped.width*10, cropped.height*10), \"white\")\n",
    "for i in range(0,10):\n",
    "    for j in range(0,10):\n",
    "        if (i+j) %2 ==0:\n",
    "            img.paste(copy, (i*cropped.width, j*cropped.height))\n",
    "\n",
    "img.save(\"mur.gif\")\n",
    "img.show()\n"
   ]
  },
  {
   "cell_type": "markdown",
   "metadata": {},
   "source": [
    "### transformation"
   ]
  },
  {
   "cell_type": "code",
   "execution_count": 39,
   "metadata": {},
   "outputs": [],
   "source": [
    "from PIL import Image\n",
    "img =Image.open(\"bird.jpg\")\n",
    "img.rotate(90).show()\n",
    "img.rotate(180).show()\n",
    "img.rotate(-90).show()\n",
    "\n",
    "img.transpose(Image.FLIP_LEFT_RIGHT).show()\n",
    "img.transpose(Image.FLIP_TOP_BOTTOM).show()\n",
    "\n",
    "\n",
    "#halfsize =img.resize(int)"
   ]
  },
  {
   "cell_type": "markdown",
   "metadata": {},
   "source": [
    "### Looping over images pixels by pixels"
   ]
  },
  {
   "cell_type": "code",
   "execution_count": null,
   "metadata": {},
   "outputs": [],
   "source": [
    "from PIL import Image\n",
    "img =Image.open(\"cropped_bird.jpg\")\n",
    "for x in range(0,img.width):\n",
    "    for y in range(0,img.height):\n",
    "        r,g,b = img.getpixel((x,y)) #tupple \n",
    "        inverted = (255-r,255-g,255-b)\n",
    "        img.putpixel((x,y), inverted)\n",
    "\n",
    "img.save(\"Inverted.png\")"
   ]
  },
  {
   "cell_type": "code",
   "execution_count": 42,
   "metadata": {},
   "outputs": [],
   "source": [
    "from PIL import Image\n",
    "img =Image.open('bird.jpg')\n",
    "red_img =Image.new('RGBA',img.size, \"white\")\n",
    "without_blue_img =Image.new('RGBA', img.size,\"white\")\n",
    "\n",
    "for i in range(0,img.width):\n",
    "    for j in range(0,img.height):\n",
    "        pixel =img.getpixel((i,j)) # -- > getpixel(x,y) --> provides a list with 3 values ()\n",
    "        red_img.putpixel((i,j),(255,pixel[1],pixel[2]))\n",
    "        without_blue_img.putpixel((i,j),(pixel[0]))#,(pixel[1]))\n",
    "\n",
    "red_img.save(\"red.gif\")\n",
    "without_blue_img.save(\"bluepic.gif\")\n"
   ]
  },
  {
   "cell_type": "markdown",
   "metadata": {},
   "source": [
    "##Converting image"
   ]
  },
  {
   "cell_type": "code",
   "execution_count": null,
   "metadata": {},
   "outputs": [],
   "source": [
    "from PIL import Image\n",
    "img =Image"
   ]
  },
  {
   "cell_type": "code",
   "execution_count": 43,
   "metadata": {},
   "outputs": [],
   "source": [
    "# from PIL import Image, ImageChopes\n",
    "# img =Image.open(\"cropped_bird.jpg\")\n",
    "# img =ImageChopes.inverted(img)\n",
    "# img.show()\n",
    "from PIL import Image, ImageChops\n",
    "img = Image.open(\"cropped_bird.jpg\")\n",
    "img = ImageChops.invert(img)\n",
    "img.show()\n"
   ]
  },
  {
   "cell_type": "markdown",
   "metadata": {},
   "source": [
    "### Drawing in pYTHON\n",
    " -FIGURES AND TEXT FOR THE TEZXT"
   ]
  },
  {
   "cell_type": "code",
   "execution_count": 49,
   "metadata": {},
   "outputs": [],
   "source": [
    "from PIL import Image,ImageDraw\n",
    "img =Image.new('RGBA', (200,200),'white')\n",
    "draw =ImageDraw.Draw(img)\n",
    "draw .rectangle((20,30,60,60),fill =\"blue\")\n",
    "draw.line([(0,0),(199,199)],fill=\"black\")\n",
    "draw.ellipse((120,30,160,60),fill =\"red\")\n",
    "\n",
    "draw.polygon(((100,50),(125,75),(150,60),(125,100),(150,125),(100,100),(75,125),(75,100),(50,65),(75,75)), fill=\"yellow\")\n",
    "\n",
    "# for i in range(100,200,10):\n",
    "#     draw.line([i,0],(200,i-100), fill=\"green\")\n",
    "img.save('drawing.png')\n",
    "img.show()"
   ]
  },
  {
   "cell_type": "code",
   "execution_count": 52,
   "metadata": {},
   "outputs": [],
   "source": [
    "from PIL import  Image, ImageDraw, ImageFont\n",
    "import os\n",
    "\n",
    "img =Image.new('RGBA',(200,200), 'green')\n",
    "draw =ImageDraw.Draw(img)\n",
    "draw.text((20,150), 'Hello',fill ='purple')\n",
    "fontsFolder ='FONT_FOLDER' #e.g '/Library/Fonts'\n",
    "arialFont =ImageFont.truetype(os.path.join(fontsFolder, 'arial.ttf'),32)\n",
    "draw.text((100,150),'Hello',fill=\"gray\",font=arialFont)\n",
    "img.show()"
   ]
  },
  {
   "cell_type": "code",
   "execution_count": null,
   "metadata": {},
   "outputs": [],
   "source": []
  }
 ],
 "metadata": {
  "kernelspec": {
   "display_name": "Python 3",
   "language": "python",
   "name": "python3"
  },
  "language_info": {
   "codemirror_mode": {
    "name": "ipython",
    "version": 3
   },
   "file_extension": ".py",
   "mimetype": "text/x-python",
   "name": "python",
   "nbconvert_exporter": "python",
   "pygments_lexer": "ipython3",
   "version": "3.12.2"
  }
 },
 "nbformat": 4,
 "nbformat_minor": 2
}
