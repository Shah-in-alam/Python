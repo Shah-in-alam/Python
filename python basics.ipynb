{
 "cells": [
  {
   "cell_type": "markdown",
   "metadata": {},
   "source": [
    "# Python basics week 02"
   ]
  },
  {
   "cell_type": "markdown",
   "metadata": {},
   "source": [
    "## FizzBizz: Write a program that prints the numbers from 1 to 100. For multiples of 3,\n",
    "## print \"Fizz\" insrtade of the number of the "
   ]
  },
  {
   "cell_type": "code",
   "execution_count": 8,
   "metadata": {},
   "outputs": [
    {
     "name": "stdout",
     "output_type": "stream",
     "text": [
      "1\n",
      "2\n",
      "Fizz\n",
      "4\n",
      "Buzz\n",
      "Fizz\n",
      "7\n",
      "8\n",
      "Fizz\n",
      "Buzz\n",
      "11\n",
      "Fizz\n",
      "13\n",
      "14\n",
      "FizzBuzz\n",
      "16\n",
      "17\n",
      "Fizz\n",
      "19\n",
      "Buzz\n",
      "Fizz\n",
      "22\n",
      "23\n",
      "Fizz\n",
      "Buzz\n",
      "26\n",
      "Fizz\n",
      "28\n",
      "29\n",
      "FizzBuzz\n",
      "31\n",
      "32\n",
      "Fizz\n",
      "34\n",
      "Buzz\n",
      "Fizz\n",
      "37\n",
      "38\n",
      "Fizz\n",
      "Buzz\n",
      "41\n",
      "Fizz\n",
      "43\n",
      "44\n",
      "FizzBuzz\n",
      "46\n",
      "47\n",
      "Fizz\n",
      "49\n",
      "Buzz\n",
      "Fizz\n",
      "52\n",
      "53\n",
      "Fizz\n",
      "Buzz\n",
      "56\n",
      "Fizz\n",
      "58\n",
      "59\n",
      "FizzBuzz\n",
      "61\n",
      "62\n",
      "Fizz\n",
      "64\n",
      "Buzz\n",
      "Fizz\n",
      "67\n",
      "68\n",
      "Fizz\n",
      "Buzz\n",
      "71\n",
      "Fizz\n",
      "73\n",
      "74\n",
      "FizzBuzz\n",
      "76\n",
      "77\n",
      "Fizz\n",
      "79\n",
      "Buzz\n",
      "Fizz\n",
      "82\n",
      "83\n",
      "Fizz\n",
      "Buzz\n",
      "86\n",
      "Fizz\n",
      "88\n",
      "89\n",
      "FizzBuzz\n",
      "91\n",
      "92\n",
      "Fizz\n",
      "94\n",
      "Buzz\n",
      "Fizz\n",
      "97\n",
      "98\n",
      "Fizz\n"
     ]
    }
   ],
   "source": [
    "for x in range (1,100):\n",
    "    if x%3==0 and x%5!=0:\n",
    "        print(\"Fizz\")\n",
    "    elif x%5==0 and x%3!=0:\n",
    "        print(\"Buzz\")\n",
    "    elif x%3==0 and x%5==0:\n",
    "        print(\"FizzBuzz\")\n",
    "    else:\n",
    "        print(x)"
   ]
  },
  {
   "cell_type": "code",
   "execution_count": 11,
   "metadata": {},
   "outputs": [
    {
     "name": "stdout",
     "output_type": "stream",
     "text": [
      "171700.0\n"
     ]
    }
   ],
   "source": [
    "sum =0\n",
    "for i in range (1,101):\n",
    "    sum+=i*(i+1)/2\n",
    "print(sum)\n"
   ]
  },
  {
   "cell_type": "code",
   "execution_count": 2,
   "metadata": {},
   "outputs": [
    {
     "name": "stdout",
     "output_type": "stream",
     "text": [
      "Halistone Sequance 12 6 3 10 5 16 8 4 2 1 "
     ]
    }
   ],
   "source": [
    "## Repition is The mother of all learning\n",
    "### Sequance of hALISTONE \n",
    "\n",
    "n = int(input(\"Enter an integer number: \"))\n",
    "print(\"Halistone Sequance\", n , end=\" \")\n",
    "while n!=1:\n",
    "    if n%2==0:\n",
    "        n=n//2\n",
    "    else:\n",
    "        n=(3*n)+1\n",
    "    print(n, end= \" \")\n",
    "    \n"
   ]
  },
  {
   "cell_type": "markdown",
   "metadata": {},
   "source": [
    "#   Function"
   ]
  },
  {
   "cell_type": "code",
   "execution_count": 7,
   "metadata": {},
   "outputs": [
    {
     "name": "stdout",
     "output_type": "stream",
     "text": [
      "apple has 2 vowels.\n"
     ]
    }
   ],
   "source": [
    "# create a function that counts the vowels in a word(aeiou)\n",
    "\n",
    "\n",
    "# --Function --> no parameters & no return\n",
    "def CountVowelNPNR():\n",
    "    word =input(\"Enter a word: \")\n",
    "    count=0\n",
    "    for c in word:\n",
    "        if c in \"aeiou\":\n",
    "       # if c == 'a' or c=='e' or c=='o' or c =='i' or c=='u' :\n",
    "         count+=1\n",
    "    print(word, \"has\", count, \"vowels.\")\n",
    "CountVowelNPNR()"
   ]
  },
  {
   "cell_type": "code",
   "execution_count": 23,
   "metadata": {},
   "outputs": [
    {
     "ename": "TypeError",
     "evalue": "can only concatenate str (not \"int\") to str",
     "output_type": "error",
     "traceback": [
      "\u001b[1;31m---------------------------------------------------------------------------\u001b[0m",
      "\u001b[1;31mTypeError\u001b[0m                                 Traceback (most recent call last)",
      "Cell \u001b[1;32mIn[23], line 11\u001b[0m\n\u001b[0;32m      8\u001b[0m          count\u001b[38;5;241m+\u001b[39m\u001b[38;5;241m=\u001b[39m\u001b[38;5;241m1\u001b[39m\n\u001b[0;32m      9\u001b[0m     \u001b[38;5;28;01mreturn\u001b[39;00m word \u001b[38;5;241m+\u001b[39m\u001b[38;5;124m\"\u001b[39m\u001b[38;5;124mhas\u001b[39m\u001b[38;5;124m\"\u001b[39m\u001b[38;5;241m+\u001b[39m count \u001b[38;5;241m+\u001b[39m\u001b[38;5;124m\"\u001b[39m\u001b[38;5;124mvowels\u001b[39m\u001b[38;5;124m\"\u001b[39m\n\u001b[1;32m---> 11\u001b[0m \u001b[38;5;28mprint\u001b[39m(\u001b[43mCountVowelsNPR\u001b[49m\u001b[43m(\u001b[49m\u001b[43mword\u001b[49m\u001b[43m)\u001b[49m)\n",
      "Cell \u001b[1;32mIn[23], line 9\u001b[0m, in \u001b[0;36mCountVowelsNPR\u001b[1;34m(word)\u001b[0m\n\u001b[0;32m      6\u001b[0m     \u001b[38;5;28;01mif\u001b[39;00m c \u001b[38;5;129;01min\u001b[39;00m \u001b[38;5;124m\"\u001b[39m\u001b[38;5;124maeiou\u001b[39m\u001b[38;5;124m\"\u001b[39m:\n\u001b[0;32m      7\u001b[0m    \u001b[38;5;66;03m# if c == 'a' or c=='e' or c=='o' or c =='i' or c=='u' :\u001b[39;00m\n\u001b[0;32m      8\u001b[0m      count\u001b[38;5;241m+\u001b[39m\u001b[38;5;241m=\u001b[39m\u001b[38;5;241m1\u001b[39m\n\u001b[1;32m----> 9\u001b[0m \u001b[38;5;28;01mreturn\u001b[39;00m \u001b[43mword\u001b[49m\u001b[43m \u001b[49m\u001b[38;5;241;43m+\u001b[39;49m\u001b[38;5;124;43m\"\u001b[39;49m\u001b[38;5;124;43mhas\u001b[39;49m\u001b[38;5;124;43m\"\u001b[39;49m\u001b[38;5;241;43m+\u001b[39;49m\u001b[43m \u001b[49m\u001b[43mcount\u001b[49m \u001b[38;5;241m+\u001b[39m\u001b[38;5;124m\"\u001b[39m\u001b[38;5;124mvowels\u001b[39m\u001b[38;5;124m\"\u001b[39m\n",
      "\u001b[1;31mTypeError\u001b[0m: can only concatenate str (not \"int\") to str"
     ]
    }
   ],
   "source": [
    "# function no parameters but return \n",
    "def CountVowelsNPR(word):\n",
    "    word =input(\"Enter a word: \")\n",
    "    count=0\n",
    "    for c in word.lower():\n",
    "        if c in \"aeiou\":\n",
    "       # if c == 'a' or c=='e' or c=='o' or c =='i' or c=='u' :\n",
    "         count+=1\n",
    "    return word +\"has\"+ count +\"vowels\"\n",
    "\n",
    "print(CountVowelsNPR(word))\n"
   ]
  },
  {
   "cell_type": "code",
   "execution_count": 20,
   "metadata": {},
   "outputs": [
    {
     "name": "stdout",
     "output_type": "stream",
     "text": [
      "apple  has 2 vowels\n"
     ]
    }
   ],
   "source": [
    "#Best option: -\n",
    "def CountVowelspr(word):\n",
    "    count=0\n",
    "    for c in word:\n",
    "        if c.lower() in \"aeiou\":\n",
    "            count+=1\n",
    "    return count\n",
    "\n",
    "word =input(\"Enter a word: \")\n",
    "print(word,\" has\",CountVowelspr(word), \"vowels\")"
   ]
  },
  {
   "cell_type": "markdown",
   "metadata": {},
   "source": [
    "### Exercise: net prime \n",
    " Find next prime number\n",
    "\n"
   ]
  },
  {
   "cell_type": "code",
   "execution_count": 25,
   "metadata": {},
   "outputs": [
    {
     "name": "stdout",
     "output_type": "stream",
     "text": [
      "Next prime number after 25 is: 29\n"
     ]
    }
   ],
   "source": [
    "def IsPrime(number):\n",
    "    for i in range(2, number):\n",
    "        if number % i == 0:\n",
    "            return False\n",
    "    return True\n",
    "\n",
    "def nextPrime(number):\n",
    "    number += 1\n",
    "    while True:\n",
    "        if IsPrime(number):\n",
    "            return number\n",
    "        number += 1\n",
    "\n",
    "\n",
    "number = int(input(\"Enter number: \"))\n",
    "next_prime = nextPrime(number)\n",
    "print(\"Next prime number after\", number, \"is:\", next_prime)\n",
    "\n"
   ]
  },
  {
   "cell_type": "code",
   "execution_count": 29,
   "metadata": {},
   "outputs": [
    {
     "name": "stdout",
     "output_type": "stream",
     "text": [
      "True 7\n",
      "False 101\n",
      "True 113\n"
     ]
    }
   ],
   "source": [
    "def IsPrime(number):\n",
    "    count =0\n",
    "    for i in range(1,number+1):\n",
    "        if number%i==0:\n",
    "            count+=1\n",
    "    if count == 2:\n",
    "         return True\n",
    "    else:\n",
    "        return False\n",
    "\n",
    "\n",
    "\n",
    "def NextPrime(number):\n",
    "    number+=1\n",
    "    while not IsPrime(number):\n",
    "            number+=1\n",
    "\n",
    "    return number\n",
    "\n",
    "print(IsPrime(5), NextPrime(5))\n",
    "print(IsPrime(93), NextPrime(97))\n",
    "print(IsPrime(107), NextPrime(109))"
   ]
  },
  {
   "cell_type": "markdown",
   "metadata": {},
   "source": [
    "## Collections:\n",
    "\n",
    "### List []\n"
   ]
  },
  {
   "cell_type": "code",
   "execution_count": 62,
   "metadata": {},
   "outputs": [
    {
     "name": "stdout",
     "output_type": "stream",
     "text": [
      "[3, 'mango', True]\n",
      "[3, 'mango', True, 3, 8, 9]\n",
      "[3, 'mango', True, 3, 8, 9, 3, 'mango', True, 3, 8, 9]\n",
      "['first', 3, 'mango', True, 3, 8, 9, 3, 'mango', True, 3, 8, 9, 'word']\n",
      "['first', 3, 'second', True, 3, 8, 9, 3, 'mango', True, 3, 8, 9, 'word']\n",
      "['first', 3, 'second', True, 3, 8, 9, 3, 'mango', True, 3, 8, 9]\n",
      "9\n",
      "first\n",
      "13\n",
      "[9, 8, 3, True, 'mango', 3, 9, 8, 3, True, 'second', 3, 'first']\n",
      "9-8-3-True-mango-3-9-8-3-True-second-3-first-\n",
      "yes, the second is the the list\n",
      "[0, 2, 4, 6, 8, 10, 12, 14, 16, 18, 20, 22, 24, 26, 28, 30, 32, 34, 36, 38, 40, 42, 44, 46, 48, 50, 52, 54, 56, 58, 60, 62, 64, 66, 68, 70, 72, 74, 76, 78, 80, 82, 84, 86, 88, 90, 92, 94, 96, 98]\n",
      "[0, 1, 4, 9, 16, 25, 36, 49, 64, 81, 100, 121, 144, 169, 196, 225, 256, 289, 324, 361, 400, 441, 484, 529, 576, 625, 676, 729, 784, 841, 900, 961, 1024, 1089, 1156, 1225, 1296, 1369, 1444, 1521, 1600, 1681, 1764, 1849, 1936, 2025, 2116, 2209, 2304, 2401, 2500, 2601, 2704, 2809, 2916, 3025, 3136, 3249, 3364, 3481, 3600, 3721, 3844, 3969, 4096, 4225, 4356, 4489, 4624, 4761, 4900, 5041, 5184, 5329, 5476, 5625, 5776, 5929, 6084, 6241, 6400, 6561, 6724, 6889, 7056, 7225, 7396, 7569, 7744, 7921, 8100, 8281, 8464, 8649, 8836, 9025, 9216, 9409, 9604, 9801]\n",
      "[2, 2, 2, 2, 2, 2, 2, 2, 2, 2]\n",
      "[2, 20, 2, 2, 2, 2, 2, 2, 2, 2]\n",
      "1 2 3 \n",
      "4 5 6 \n",
      "7 8 9 \n"
     ]
    }
   ],
   "source": [
    "list =[] # empty list\n",
    "list.append(3) # adding item to the end of the list\n",
    "list.append(\"mango\")\n",
    "list.append(True)\n",
    "print(list)\n",
    "\n",
    "list+=[3,8,9]\n",
    "print(list)\n",
    "\n",
    "list+=list\n",
    "print(list)\n",
    "\n",
    "list =list+[\"word\"]\n",
    "list.insert(0,\"first\")\n",
    "print(list)\n",
    "list[2]=\"second\"\n",
    "print(list)\n",
    "list.pop()\n",
    "print(list)\n",
    "\n",
    "print(list[-1])\n",
    "print(list[-13])\n",
    "print(len(list))\n",
    "#list.sort()--> can't sort\n",
    "\n",
    "list.reverse()\n",
    "print(list)\n",
    "for element in list:\n",
    "    print(element , end=\"-\")\n",
    "print()\n",
    "if \"second\" in  list:\n",
    "    print(\"yes, the second is the the list\")\n",
    "# new list\n",
    "newList =[x for x in range(0,100,2)]\n",
    "print(newList)\n",
    "newList =[x**2  for x in range(0,100)]\n",
    "print(newList)\n",
    "\n",
    "newList =[2]*10\n",
    "print(newList)\n",
    "newList[1]*=10\n",
    "print(newList)\n",
    "newlist =[]\n",
    "#for element in list:\n",
    "    #if (type(element)) == int:\n",
    "   # newlist.append(element)\n",
    "#print(newlist)\n",
    "\n",
    "matrix =[[1,2,3],[4,5,6],[7,8,9]]\n",
    "for i in matrix:\n",
    "    for j in i:\n",
    "        print(j, end=\" \")\n",
    "    print()"
   ]
  },
  {
   "cell_type": "markdown",
   "metadata": {},
   "source": [
    "### Tuple()\n"
   ]
  },
  {
   "cell_type": "code",
   "execution_count": 1,
   "metadata": {},
   "outputs": [
    {
     "name": "stdout",
     "output_type": "stream",
     "text": [
      "('mon', 'tue', 'wed', 'thu', 'fri', 'sat', 'sun')\n",
      "one words\n"
     ]
    }
   ],
   "source": [
    "weekdays=(\"mon\",\"tue\",\"wed\",\"thu\",\"fri\",\"sat\",\"sun\")\n",
    "print(weekdays)\n",
    "weekdays =(\"one words\")\n",
    "print(weekdays)\n"
   ]
  },
  {
   "cell_type": "markdown",
   "metadata": {},
   "source": [
    "### sets{}\n",
    "unordered & changeable\n",
    "duplicates are not allowed"
   ]
  },
  {
   "cell_type": "code",
   "execution_count": null,
   "metadata": {},
   "outputs": [],
   "source": [
    "prime_list =[2]\n",
    "prime_set ={2}\n",
    "\n",
    "#def IsPrime(number):\n",
    "\n",
    "#    count =0\n",
    "   # for i in range(1,number+1):\n",
    "    #    if number%i==0:\n",
    "     #       count+=1\n",
    "    #if count == 2:\n",
    "    #     return True\n",
    "    #else:\n",
    "      #  return False\n",
    "\n"
   ]
  },
  {
   "cell_type": "markdown",
   "metadata": {},
   "source": [
    "\n",
    "### Dictionary { } key/value-pairs\n",
    "ordered & changeable collection\n",
    "duplicates are not allowed"
   ]
  },
  {
   "cell_type": "code",
   "execution_count": 65,
   "metadata": {},
   "outputs": [
    {
     "name": "stdout",
     "output_type": "stream",
     "text": [
      "{'a': 'apple', 'b': 'banana', 'c': 'citron'}\n",
      "{'a': 'apple', 'b': 'banana', 'c': 'citron', 'y': 'cherry'}\n"
     ]
    }
   ],
   "source": [
    "\n",
    "dictionary = {\n",
    "    \"a\":\"apple\",\n",
    "    \"b\" : \"banana\",\n",
    "    \"c\" : \"cherry\",\n",
    "    \"c\" : \"citron\"\n",
    "}\n",
    "print(dictionary)\n",
    "dictionary[\"y\"] = \"cherry\"\n",
    "print(dictionary)"
   ]
  }
 ],
 "metadata": {
  "kernelspec": {
   "display_name": "Python 3",
   "language": "python",
   "name": "python3"
  },
  "language_info": {
   "codemirror_mode": {
    "name": "ipython",
    "version": 3
   },
   "file_extension": ".py",
   "mimetype": "text/x-python",
   "name": "python",
   "nbconvert_exporter": "python",
   "pygments_lexer": "ipython3",
   "version": "3.12.2"
  }
 },
 "nbformat": 4,
 "nbformat_minor": 2
}
