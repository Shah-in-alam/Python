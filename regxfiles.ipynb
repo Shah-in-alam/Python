{
 "cells": [
  {
   "cell_type": "markdown",
   "metadata": {},
   "source": [
    "# week 5 regex"
   ]
  },
  {
   "cell_type": "markdown",
   "metadata": {},
   "source": [
    "\n"
   ]
  },
  {
   "cell_type": "code",
   "execution_count": 8,
   "metadata": {},
   "outputs": [
    {
     "name": "stdout",
     "output_type": "stream",
     "text": [
      "['3', '7', '2', '8']\n",
      "['Lorem', 'ipsum', 'dolor', 'AU', 'sit', 'amet', 'consectetur', 'elit', 'Aenean', 'condimentum', 'enim', 'tincidunt', 'rutrum', 'libero', 'et', 'vestibulum', 'mauris', 'Donec', 'pretium', 'quam', 'eget', 'quam', 'dui', 'sem', 'mollis', 'suscipit', 'enim', 'sollicitudin', 'mi', 'In', 'congue', 'diam', 'quis', 'interdum', 'lacus', 'Nunc', 'nec', 'dui', 'nibh', 'Quisque', 'ut', 'dui', 'vulputate', 'dapibus', 'nibh', 'quis', 'condimenmut', 'dignissim', 'arcu', 'moerl', 'Nullam', 'diam', 'magna', 'mollis', 'elorm', 'ut', 'dui', 'eget', 'libero', 'Ut', 'placerat', 'finibus', 'est', 'ac', 'blandit', 'text', 'vitae', 'nibh', 'fermentum', 'nunc', 'nec', 'faucibus', 'nisi', 'Vestibulum', 'semper', 'nunc', 'id', 'sagittis', 'vulputate', 'ligula', 'dolor', 'blandit', 'nunc', 'sit', 'amet', 'ultricies', 'lectus', 'nibh', 'in', 'diam', 'Pellentesque', 'eu', 'condimentum', 'dui', 'Loremol', 'Nullam', 'venenatis', 'porttitor', 'et', 'consectetur', 'urna', 'posuere', 'vel', 'Nullam', 'lobortis', 'lectus', 'bibendum', 'porta', 'urna', 'a', 'ultricies', 'elit', 'Sed', 'a', 'molestie', 'enim', 'oei', 'cetusl']\n",
      "['adipiscing5', '5678', '25viverra', 'pha3retra', 'laor7eet', '2345', '7enim', 'eg2et', '9012', 'interdum9', 'bla8ndit', '1234', '2Cras', 'venenatis23', '6789', '7890', 'enim1']\n",
      "['AU', 'eu', 'a', 'a', 'oei']\n",
      "[]\n",
      "['Lorem', 'moerl', 'elorm']\n",
      "[]\n"
     ]
    }
   ],
   "source": [
    "\n",
    "import re\n",
    "\n",
    "text = \"\"\"Lorem ipsum dolor AU sit amet, consectetur adipiscing5 elit. Aenean condimentum enim tincidunt, \n",
    "rutrum libero et, 5678 vestibulum mauris. Donec pretium, quam eget 25viverra pha3retra, quam dui laor7eet 2345 sem, mollis suscipit \n",
    "enim 7enim sollicitudin mi. In eg2et congue diam, quis interdum lacus. Nunc nec dui nibh. Quisque ut dui vulputate, \n",
    "dapibus nibh quis, condimenmut dignissim arcu. moerl Nullam diam magna, 9012 mollis elorm ut dui eget, interdum9 bla8ndit libero. Ut placerat finibus \n",
    "est ac 1234 blandit. text 2Cras vitae nibh fermentum, venenatis23 nunc nec, faucibus nisi. Vestibulum semper, nunc id \n",
    "sagittis vulputate, ligula dolor blandit nunc, sit amet ultricies lectus nibh in diam. 6789 Pellentesque eu \n",
    "condimentum dui. Loremol Nullam 7890 venenatis porttitor enim1 , et consectetur urna posuere vel. Nullam lobortis lectus \n",
    "bibendum, porta urna a, ultricies elit. Sed a molestie enim oei cetusl\"\"\"\n",
    "# surrrending with alphebetical characters\n",
    "regex =r\"\\b[a-zA-Z]+(\\d)[a-zA-Z]+\\b\"\n",
    "matches=re.findall(regex,text)\n",
    "print(matches) \n",
    "# all string conating only alphebetical characters\n",
    "regex =  r\"\\b[a-zA-Z]+\\b\"\n",
    "matches = re.findall(regex, text)\n",
    "print(matches)\n",
    "\n",
    "# all number (not indv digits)\n",
    "regex = r\"\\b\\d+\\b\" # \\b[0-9]+\\b\n",
    "list= re.findall(regex,text)\n",
    "#all string containing the only digits\n",
    "\n",
    "regex = r\"\\b[a-zA-Z]*\\d+[a-zA-Z]*\\b\"\n",
    "matches = re.findall(regex, text)\n",
    "print(matches)\n",
    "\n",
    "# all string containing the vowels\n",
    "regex = r\"\\b[aeiouAEIOU]+\\b\"\n",
    "matches =re.findall(regex, text)\n",
    "print(matches)\n",
    "# all strings that contaings consunants\n",
    "regex = r\"\\b[^aeiouAEIOU\\d\\s\\w_]+\\b\"\n",
    "matches = re.findall(regex, text)\n",
    "print(matches)\n",
    "# all  string contains Lorem, morel, \n",
    "regex = r\"\\b[loremLOREM]{5}+\\b\"\n",
    "matches = re.findall(regex, text)\n",
    "print(matches)\n",
    "# all  string contains only letters  of input\n",
    "letters =input()\n",
    "letters= r\"\\b[\" +letters + r\"]{\" +str(len(letters))+ r\"}\\b\"\n",
    "matches = re.findall(letters, text)\n",
    "print(matches)\n",
    "\n",
    "\n"
   ]
  },
  {
   "cell_type": "markdown",
   "metadata": {},
   "source": [
    "## whats re we goging to do:\n",
    "- files and folders\n",
    "- creating files\n",
    "- reading and writing form and to files\n",
    "- (de)compressing\n",
    "- reading csv- files"
   ]
  },
  {
   "cell_type": "markdown",
   "metadata": {},
   "source": [
    "\n",
    "Write a python function called validate_email --> takes email as input and return a boolean that indicates whether or not it's valid\n",
    "\n",
    "- email address must contain \"@\"\n",
    "- part before \"@\" --> at least 1 char and only letters, numbers, - - dots, hyphens and underscores (a, 9, ., -, _)\n",
    "- part after \"@\" --> at least 2 chars and only letters, dots, - - - - hyphens (a, ., -)\n",
    "- cannot end with a dot"
   ]
  },
  {
   "cell_type": "code",
   "execution_count": 9,
   "metadata": {},
   "outputs": [
    {
     "name": "stdout",
     "output_type": "stream",
     "text": [
      "True\n",
      "True\n",
      "False\n",
      "False\n",
      "False\n",
      "True\n"
     ]
    }
   ],
   "source": [
    "import re\n",
    "\n",
    "def validate_email(email):\n",
    "    if \"@\" not in email:\n",
    "        return False\n",
    "\n",
    "    parts = email.split(\"@\")\n",
    "    if len(parts) != 2:\n",
    "        return False\n",
    "    \n",
    "    regex = r\"^[a-zA-Z0-9\\.\\-_]+$\"\n",
    "    if re.match(regex, parts[0]) is None:\n",
    "        return False\n",
    "    \n",
    "    regex = r\"[a-zA-Z\\.\\-]{2,}\"\n",
    "    if re.match(regex, parts[1]) is None:\n",
    "        return False\n",
    "     \n",
    "    if email[-1] == \".\":\n",
    "        return False\n",
    "    return True\n",
    "\n",
    "print(validate_email(\"shahinalam111024@gmail.com\"))\n",
    "print(validate_email(\"anthony.coppens@thomasmore.be\"))\n",
    "print(validate_email(\"anthony.coppens@thomasmore.be.\"))\n",
    "print(validate_email(\"anthony.coppens@thomas@more.be\"))\n",
    "print(validate_email(\"anthony coppens@thomasmore.be\"))\n",
    "print(validate_email(\"ant_hony12.3-@thomasmore.be\"))\n"
   ]
  },
  {
   "cell_type": "markdown",
   "metadata": {},
   "source": [
    "#Files and Folders : os and pathlib"
   ]
  },
  {
   "cell_type": "code",
   "execution_count": 10,
   "metadata": {},
   "outputs": [
    {
     "name": "stdout",
     "output_type": "stream",
     "text": [
      "c:\\Users\\MOHAMMAD MIRAZ\\OneDrive\\Desktop\\Scripting\\week 5\n",
      "<class 'str'>\n",
      "c:\\Users\\MOHAMMAD MIRAZ\\OneDrive\\Desktop\\Scripting\\week 5\n",
      "<class 'pathlib.WindowsPath'>\n",
      "\n",
      "Filename: calc.exc\n",
      "Name:  calc\n",
      "Extension: .exc\n",
      "Pattern direction: c:\\windows\\system32\n",
      "False\n",
      "False\n",
      "C:\\Users\\MOHAMMAD MIRAZ\n",
      "C:\\Users\\MOHAMMAD MIRAZ\\text\n",
      "\n",
      "C:\\Users\\MOHAMMAD MIRAZ\\test\n"
     ]
    },
    {
     "name": "stderr",
     "output_type": "stream",
     "text": [
      "<>:9: SyntaxWarning: invalid escape sequence '\\w'\n",
      "<>:25: SyntaxWarning: invalid escape sequence '\\e'\n",
      "<>:9: SyntaxWarning: invalid escape sequence '\\w'\n",
      "<>:25: SyntaxWarning: invalid escape sequence '\\e'\n",
      "C:\\Users\\MOHAMMAD MIRAZ\\AppData\\Local\\Temp\\ipykernel_10204\\3503840190.py:9: SyntaxWarning: invalid escape sequence '\\w'\n",
      "  calc =pathlib.Path(\"c:\\windows\\system32\\calc.exc\")\n",
      "C:\\Users\\MOHAMMAD MIRAZ\\AppData\\Local\\Temp\\ipykernel_10204\\3503840190.py:25: SyntaxWarning: invalid escape sequence '\\e'\n",
      "  path_to_email_txt =os.getcwd() + \"\\e-mail.txt\"\n"
     ]
    }
   ],
   "source": [
    "import os\n",
    "import pathlib\n",
    "print(os.getcwd())\n",
    "print(type(os.getcwd()))\n",
    "print(pathlib.Path.cwd())\n",
    "print(type(pathlib.Path.cwd()))\n",
    "\n",
    "print()\n",
    "calc =pathlib.Path(\"c:\\windows\\system32\\calc.exc\")\n",
    "print(\"Filename:\", calc.name)\n",
    "print(\"Name: \", calc.stem)\n",
    "print(\"Extension:\",calc.suffix)\n",
    "print(\"Pattern direction:\", calc.parent)\n",
    "print(calc.is_file())\n",
    "print(calc.exists())\n",
    "print(pathlib.Path.home())\n",
    "# working with string\n",
    "print(str(pathlib.Path.home()) + \"\\\\\"+ \"text\") # windows \n",
    "#print(str(pathlib.Path.home()) + \"/\" + \"test\") # linux and mac\n",
    "print()\n",
    "# working with paths\n",
    "print(pathlib.Path.home() / \"test\")\n",
    "\n",
    "\n",
    "path_to_email_txt =os.getcwd() + \"\\e-mail.txt\" "
   ]
  },
  {
   "cell_type": "markdown",
   "metadata": {},
   "source": [
    "\n",
    "### Walk in our directory"
   ]
  },
  {
   "cell_type": "code",
   "execution_count": 13,
   "metadata": {},
   "outputs": [
    {
     "name": "stdout",
     "output_type": "stream",
     "text": [
      "The current folder is c:\\Users\\MOHAMMAD MIRAZ\\OneDrive\\Desktop\\Scripting\\week 5\n",
      "SUBFOLDER OF c:\\Users\\MOHAMMAD MIRAZ\\OneDrive\\Desktop\\Scripting\\week 5:folder\n",
      "SUBFOLDER OF c:\\Users\\MOHAMMAD MIRAZ\\OneDrive\\Desktop\\Scripting\\week 5:folder2\n",
      "SUBFOLDER OF c:\\Users\\MOHAMMAD MIRAZ\\OneDrive\\Desktop\\Scripting\\week 5:folder3\n",
      "SUBFOLDER OF c:\\Users\\MOHAMMAD MIRAZ\\OneDrive\\Desktop\\Scripting\\week 5:folder4\n",
      "SUBFOLDER OF c:\\Users\\MOHAMMAD MIRAZ\\OneDrive\\Desktop\\Scripting\\week 5:MECHELEN\n",
      "SUBFOLDER OF c:\\Users\\MOHAMMAD MIRAZ\\OneDrive\\Desktop\\Scripting\\week 5:text\n",
      "FILE INSIDE c:\\Users\\MOHAMMAD MIRAZ\\OneDrive\\Desktop\\Scripting\\week 5:1st pic.png\n",
      "FILE INSIDE c:\\Users\\MOHAMMAD MIRAZ\\OneDrive\\Desktop\\Scripting\\week 5:ANTHONY.txt\n",
      "FILE INSIDE c:\\Users\\MOHAMMAD MIRAZ\\OneDrive\\Desktop\\Scripting\\week 5:countries-1.csv\n",
      "FILE INSIDE c:\\Users\\MOHAMMAD MIRAZ\\OneDrive\\Desktop\\Scripting\\week 5:e-mail-1.txt\n",
      "FILE INSIDE c:\\Users\\MOHAMMAD MIRAZ\\OneDrive\\Desktop\\Scripting\\week 5:regxfiles.ipynb\n",
      "-----------\n",
      "The current folder is c:\\Users\\MOHAMMAD MIRAZ\\OneDrive\\Desktop\\Scripting\\week 5\\folder\n",
      "FILE INSIDE c:\\Users\\MOHAMMAD MIRAZ\\OneDrive\\Desktop\\Scripting\\week 5\\folder:bacon.txt\n",
      "-----------\n",
      "The current folder is c:\\Users\\MOHAMMAD MIRAZ\\OneDrive\\Desktop\\Scripting\\week 5\\folder2\n",
      "FILE INSIDE c:\\Users\\MOHAMMAD MIRAZ\\OneDrive\\Desktop\\Scripting\\week 5\\folder2:text.txt\n",
      "-----------\n",
      "The current folder is c:\\Users\\MOHAMMAD MIRAZ\\OneDrive\\Desktop\\Scripting\\week 5\\folder3\n",
      "-----------\n",
      "The current folder is c:\\Users\\MOHAMMAD MIRAZ\\OneDrive\\Desktop\\Scripting\\week 5\\folder4\n",
      "-----------\n",
      "The current folder is c:\\Users\\MOHAMMAD MIRAZ\\OneDrive\\Desktop\\Scripting\\week 5\\MECHELEN\n",
      "-----------\n",
      "The current folder is c:\\Users\\MOHAMMAD MIRAZ\\OneDrive\\Desktop\\Scripting\\week 5\\text\n",
      "-----------\n"
     ]
    }
   ],
   "source": [
    "from pathlib import Path\n",
    "\n",
    "path_ = r\"c:\\Users\\MOHAMMAD MIRAZ\\OneDrive\\Desktop\\Scripting\\week 5\"\n",
    "#os.chdir(Path.home()) --> another way of changing dir\n",
    "\n",
    "for folderName, subfolders, filenames in os.walk(path_):\n",
    "    print(\"The current folder is \" + folderName)\n",
    "\n",
    "    for subfolder in subfolders:\n",
    "        print(\"SUBFOLDER OF \" + folderName + \":\" + subfolder)\n",
    "\n",
    "    for fileName in filenames:\n",
    "        print(\"FILE INSIDE \" + folderName + \":\" + fileName)\n",
    "    \n",
    "    print(\"-----------\")"
   ]
  },
  {
   "cell_type": "code",
   "execution_count": 14,
   "metadata": {},
   "outputs": [
    {
     "name": "stdout",
     "output_type": "stream",
     "text": [
      "c:\\Users\\MOHAMMAD MIRAZ\\OneDrive\\Desktop\\Scripting\\week 5\\ANTHONY.txt\n",
      "c:\\Users\\MOHAMMAD MIRAZ\\OneDrive\\Desktop\\Scripting\\week 5\\e-mail-1.txt\n",
      "c:\\Users\\MOHAMMAD MIRAZ\\OneDrive\\Desktop\\Scripting\\week 5\\1st pic.png\n",
      "c:\\Users\\MOHAMMAD MIRAZ\\OneDrive\\Desktop\\Scripting\\week 5\\countries-1.csv\n",
      "c:\\Users\\MOHAMMAD MIRAZ\\OneDrive\\Desktop\\Scripting\\week 5\\e-mail-1.txt\n",
      "c:\\Users\\MOHAMMAD MIRAZ\\OneDrive\\Desktop\\Scripting\\week 5\\folder2\n",
      "c:\\Users\\MOHAMMAD MIRAZ\\OneDrive\\Desktop\\Scripting\\week 5\\folder3\n",
      "c:\\Users\\MOHAMMAD MIRAZ\\OneDrive\\Desktop\\Scripting\\week 5\\folder4\n"
     ]
    }
   ],
   "source": [
    "# print and search for any file in a certain path\n",
    "\n",
    "from pathlib import Path\n",
    "path_string =r\"c:\\Users\\MOHAMMAD MIRAZ\\OneDrive\\Desktop\\Scripting\\week 5\"\n",
    "\n",
    "path_object= Path(path_string)\n",
    "\n",
    "for file in path_object.glob(\"*.txt\"):\n",
    "    print(file)\n",
    "for file in path_object.glob(\"*[0-9]*\"):\n",
    "    print(file)"
   ]
  },
  {
   "cell_type": "markdown",
   "metadata": {},
   "source": [
    "Reading a file:"
   ]
  },
  {
   "cell_type": "code",
   "execution_count": 17,
   "metadata": {},
   "outputs": [
    {
     "ename": "FileNotFoundError",
     "evalue": "[Errno 2] No such file or directory: 'text.txt'",
     "output_type": "error",
     "traceback": [
      "\u001b[1;31m---------------------------------------------------------------------------\u001b[0m",
      "\u001b[1;31mFileNotFoundError\u001b[0m                         Traceback (most recent call last)",
      "Cell \u001b[1;32mIn[17], line 1\u001b[0m\n\u001b[1;32m----> 1\u001b[0m file \u001b[38;5;241m=\u001b[39m \u001b[38;5;28;43mopen\u001b[39;49m\u001b[43m(\u001b[49m\u001b[38;5;124;43m\"\u001b[39;49m\u001b[38;5;124;43mtext.txt\u001b[39;49m\u001b[38;5;124;43m\"\u001b[39;49m\u001b[43m,\u001b[49m\u001b[43m \u001b[49m\u001b[38;5;124;43m\"\u001b[39;49m\u001b[38;5;124;43mr\u001b[39;49m\u001b[38;5;124;43m\"\u001b[39;49m\u001b[43m)\u001b[49m \u001b[38;5;66;03m#indicates reading \u001b[39;00m\n\u001b[0;32m      2\u001b[0m \u001b[38;5;28mprint\u001b[39m(file\u001b[38;5;241m.\u001b[39mread())\n\u001b[0;32m      3\u001b[0m file\u001b[38;5;241m.\u001b[39mclose()\n",
      "File \u001b[1;32m~\\AppData\\Roaming\\Python\\Python312\\site-packages\\IPython\\core\\interactiveshell.py:310\u001b[0m, in \u001b[0;36m_modified_open\u001b[1;34m(file, *args, **kwargs)\u001b[0m\n\u001b[0;32m    303\u001b[0m \u001b[38;5;28;01mif\u001b[39;00m file \u001b[38;5;129;01min\u001b[39;00m {\u001b[38;5;241m0\u001b[39m, \u001b[38;5;241m1\u001b[39m, \u001b[38;5;241m2\u001b[39m}:\n\u001b[0;32m    304\u001b[0m     \u001b[38;5;28;01mraise\u001b[39;00m \u001b[38;5;167;01mValueError\u001b[39;00m(\n\u001b[0;32m    305\u001b[0m         \u001b[38;5;124mf\u001b[39m\u001b[38;5;124m\"\u001b[39m\u001b[38;5;124mIPython won\u001b[39m\u001b[38;5;124m'\u001b[39m\u001b[38;5;124mt let you open fd=\u001b[39m\u001b[38;5;132;01m{\u001b[39;00mfile\u001b[38;5;132;01m}\u001b[39;00m\u001b[38;5;124m by default \u001b[39m\u001b[38;5;124m\"\u001b[39m\n\u001b[0;32m    306\u001b[0m         \u001b[38;5;124m\"\u001b[39m\u001b[38;5;124mas it is likely to crash IPython. If you know what you are doing, \u001b[39m\u001b[38;5;124m\"\u001b[39m\n\u001b[0;32m    307\u001b[0m         \u001b[38;5;124m\"\u001b[39m\u001b[38;5;124myou can use builtins\u001b[39m\u001b[38;5;124m'\u001b[39m\u001b[38;5;124m open.\u001b[39m\u001b[38;5;124m\"\u001b[39m\n\u001b[0;32m    308\u001b[0m     )\n\u001b[1;32m--> 310\u001b[0m \u001b[38;5;28;01mreturn\u001b[39;00m \u001b[43mio_open\u001b[49m\u001b[43m(\u001b[49m\u001b[43mfile\u001b[49m\u001b[43m,\u001b[49m\u001b[43m \u001b[49m\u001b[38;5;241;43m*\u001b[39;49m\u001b[43margs\u001b[49m\u001b[43m,\u001b[49m\u001b[43m \u001b[49m\u001b[38;5;241;43m*\u001b[39;49m\u001b[38;5;241;43m*\u001b[39;49m\u001b[43mkwargs\u001b[49m\u001b[43m)\u001b[49m\n",
      "\u001b[1;31mFileNotFoundError\u001b[0m: [Errno 2] No such file or directory: 'text.txt'"
     ]
    }
   ],
   "source": [
    "file = open(\"text.txt\", \"r\") #indicates reading \n",
    "print(file.read())\n",
    "file.close()\n",
    "\n",
    "print()\n",
    "\n",
    "with open(\"test.txt\", \"r\") as file:\n",
    "    print(file.read())\n",
    "\n",
    "# endocing problem?\n",
    "file = open(\"test.txt\", \"r\", encoding=\"utf-7\")\n",
    "file.close()\n",
    "\n"
   ]
  },
  {
   "cell_type": "markdown",
   "metadata": {},
   "source": [
    "## wrintig to a file"
   ]
  },
  {
   "cell_type": "code",
   "execution_count": null,
   "metadata": {},
   "outputs": [
    {
     "name": "stdout",
     "output_type": "stream",
     "text": [
      "c:\\Users\\MOHAMMAD MIRAZ\\OneDrive\\Desktop\\Scripting\\week 5\n",
      "c:\\Users\\MOHAMMAD MIRAZ\\OneDrive\\Desktop\\Scripting\\week 5\n"
     ]
    }
   ],
   "source": [
    "import os\n",
    "\n",
    "print(os.getcwd())\n",
    "\n",
    "# Change directory\n",
    "os.chdir(r\"c:\\Users\\MOHAMMAD MIRAZ\\OneDrive\\Desktop\\Scripting\\week 5\")\n",
    "print(os.getcwd())\n",
    "\n",
    "# Creating and writing to the file\n",
    "file = open(\"text.txt\", \"w\")  # Open in write mode in the file location\n",
    "file.write(\"test\") # wrtie the test in the location \n",
    "file.write(\"\\ntest\") # 2nd line also test \n",
    "file.close() # closeing the file\n",
    "\n",
    "# Appending to the file\n",
    "file = open(\"text.txt\", \"a\")  # Open in append mode\n",
    "file.write(\"\\n\\nshahin test\")\n",
    "file.close()\n"
   ]
  },
  {
   "cell_type": "markdown",
   "metadata": {},
   "source": []
  },
  {
   "cell_type": "code",
   "execution_count": null,
   "metadata": {},
   "outputs": [],
   "source": []
  },
  {
   "cell_type": "code",
   "execution_count": null,
   "metadata": {},
   "outputs": [],
   "source": []
  },
  {
   "cell_type": "markdown",
   "metadata": {},
   "source": [
    "## check email with validate email:\n",
    " "
   ]
  },
  {
   "cell_type": "code",
   "execution_count": 18,
   "metadata": {},
   "outputs": [
    {
     "name": "stdout",
     "output_type": "stream",
     "text": [
      "example@example.com True ---> True\n",
      "\n",
      "example@sub.domain.com True ---> True\n",
      "\n",
      "example-123@sub.domain.com True ---> True\n",
      "\n",
      "example123@sub.domain.com True ---> True\n",
      "\n",
      "example_123@sub.domain.com True ---> True\n",
      "\n",
      "example@sub-domain.com True ---> True\n",
      "\n",
      "example@sub.domain True ---> False\n",
      "\n",
      "example@sub. False ---> False\n",
      "\n",
      "example@sub..com True ---> False\n",
      "\n",
      "example@sub.domain.c True ---> False\n",
      "\n",
      "example@sub-.domain.com True ---> False\n",
      "\n",
      "example@sub_.domain.com True ---> False\n",
      "\n",
      "example@sub.domain-.com True ---> False\n",
      "\n",
      "example@sub.domain_.com True ---> False\n",
      "\n"
     ]
    }
   ],
   "source": [
    "# reef to validate\n",
    "\n",
    "with open(\"e-mail-1.txt\", \"r\") as file:\n",
    "    for line in file.readlines():\n",
    "        parts =line.split(\";\")\n",
    "        print(parts[0],validate_email(parts[0]),\"--->\",parts[1])    "
   ]
  },
  {
   "cell_type": "markdown",
   "metadata": {},
   "source": [
    "## organiging files:\n",
    "creating a dir, deleting files, copying,moving\n",
    "\n",
    "if you want to delet --> USE Send2Trash\n",
    "https://pypi.org/project/Send2Trash/"
   ]
  },
  {
   "cell_type": "code",
   "execution_count": null,
   "metadata": {},
   "outputs": [
    {
     "name": "stdout",
     "output_type": "stream",
     "text": [
      "Requirement already satisfied: Send2Trash in c:\\users\\mohammad miraz\\appdata\\local\\programs\\python\\python312\\lib\\site-packages (1.8.2)\n"
     ]
    }
   ],
   "source": [
    "! pip install Send2Trash"
   ]
  },
  {
   "cell_type": "code",
   "execution_count": 21,
   "metadata": {},
   "outputs": [
    {
     "ename": "FileNotFoundError",
     "evalue": "[Errno 2] No such file or directory: 'text.txt'",
     "output_type": "error",
     "traceback": [
      "\u001b[1;31m---------------------------------------------------------------------------\u001b[0m",
      "\u001b[1;31mFileNotFoundError\u001b[0m                         Traceback (most recent call last)",
      "Cell \u001b[1;32mIn[21], line 3\u001b[0m\n\u001b[0;32m      1\u001b[0m \u001b[38;5;28;01mimport\u001b[39;00m \u001b[38;5;21;01mshutil\u001b[39;00m\u001b[38;5;241m,\u001b[39m \u001b[38;5;21;01mos\u001b[39;00m \u001b[38;5;66;03m# \u001b[39;00m\n\u001b[0;32m      2\u001b[0m \u001b[38;5;66;03m#os.mkdir(\"folder5\") # \u001b[39;00m\n\u001b[1;32m----> 3\u001b[0m \u001b[43mshutil\u001b[49m\u001b[38;5;241;43m.\u001b[39;49m\u001b[43mcopy\u001b[49m\u001b[43m(\u001b[49m\u001b[38;5;124;43m'\u001b[39;49m\u001b[38;5;124;43mtext.txt\u001b[39;49m\u001b[38;5;124;43m'\u001b[39;49m\u001b[43m,\u001b[49m\u001b[38;5;124;43m\"\u001b[39;49m\u001b[38;5;124;43mfolder2\u001b[39;49m\u001b[38;5;124;43m\"\u001b[39;49m\u001b[43m)\u001b[49m \u001b[38;5;66;03m# \u001b[39;00m\n\u001b[0;32m      4\u001b[0m shutil\u001b[38;5;241m.\u001b[39mmove(\u001b[38;5;124m\"\u001b[39m\u001b[38;5;124mfolder/text.txt\u001b[39m\u001b[38;5;124m\"\u001b[39m, \u001b[38;5;124m\"\u001b[39m\u001b[38;5;124mfolder2/bacon.txt\u001b[39m\u001b[38;5;124m\"\u001b[39m)\n",
      "File \u001b[1;32mc:\\Users\\MOHAMMAD MIRAZ\\AppData\\Local\\Programs\\Python\\Python312\\Lib\\shutil.py:435\u001b[0m, in \u001b[0;36mcopy\u001b[1;34m(src, dst, follow_symlinks)\u001b[0m\n\u001b[0;32m    433\u001b[0m \u001b[38;5;28;01mif\u001b[39;00m os\u001b[38;5;241m.\u001b[39mpath\u001b[38;5;241m.\u001b[39misdir(dst):\n\u001b[0;32m    434\u001b[0m     dst \u001b[38;5;241m=\u001b[39m os\u001b[38;5;241m.\u001b[39mpath\u001b[38;5;241m.\u001b[39mjoin(dst, os\u001b[38;5;241m.\u001b[39mpath\u001b[38;5;241m.\u001b[39mbasename(src))\n\u001b[1;32m--> 435\u001b[0m \u001b[43mcopyfile\u001b[49m\u001b[43m(\u001b[49m\u001b[43msrc\u001b[49m\u001b[43m,\u001b[49m\u001b[43m \u001b[49m\u001b[43mdst\u001b[49m\u001b[43m,\u001b[49m\u001b[43m \u001b[49m\u001b[43mfollow_symlinks\u001b[49m\u001b[38;5;241;43m=\u001b[39;49m\u001b[43mfollow_symlinks\u001b[49m\u001b[43m)\u001b[49m\n\u001b[0;32m    436\u001b[0m copymode(src, dst, follow_symlinks\u001b[38;5;241m=\u001b[39mfollow_symlinks)\n\u001b[0;32m    437\u001b[0m \u001b[38;5;28;01mreturn\u001b[39;00m dst\n",
      "File \u001b[1;32mc:\\Users\\MOHAMMAD MIRAZ\\AppData\\Local\\Programs\\Python\\Python312\\Lib\\shutil.py:260\u001b[0m, in \u001b[0;36mcopyfile\u001b[1;34m(src, dst, follow_symlinks)\u001b[0m\n\u001b[0;32m    258\u001b[0m     os\u001b[38;5;241m.\u001b[39msymlink(os\u001b[38;5;241m.\u001b[39mreadlink(src), dst)\n\u001b[0;32m    259\u001b[0m \u001b[38;5;28;01melse\u001b[39;00m:\n\u001b[1;32m--> 260\u001b[0m     \u001b[38;5;28;01mwith\u001b[39;00m \u001b[38;5;28;43mopen\u001b[39;49m\u001b[43m(\u001b[49m\u001b[43msrc\u001b[49m\u001b[43m,\u001b[49m\u001b[43m \u001b[49m\u001b[38;5;124;43m'\u001b[39;49m\u001b[38;5;124;43mrb\u001b[39;49m\u001b[38;5;124;43m'\u001b[39;49m\u001b[43m)\u001b[49m \u001b[38;5;28;01mas\u001b[39;00m fsrc:\n\u001b[0;32m    261\u001b[0m         \u001b[38;5;28;01mtry\u001b[39;00m:\n\u001b[0;32m    262\u001b[0m             \u001b[38;5;28;01mwith\u001b[39;00m \u001b[38;5;28mopen\u001b[39m(dst, \u001b[38;5;124m'\u001b[39m\u001b[38;5;124mwb\u001b[39m\u001b[38;5;124m'\u001b[39m) \u001b[38;5;28;01mas\u001b[39;00m fdst:\n\u001b[0;32m    263\u001b[0m                 \u001b[38;5;66;03m# macOS\u001b[39;00m\n",
      "\u001b[1;31mFileNotFoundError\u001b[0m: [Errno 2] No such file or directory: 'text.txt'"
     ]
    }
   ],
   "source": [
    "import shutil, os # \n",
    "#os.mkdir(\"folder5\") # \n",
    "shutil.copy('text.txt',\"folder2\") # \n",
    "shutil.move(\"folder/text.txt\", \"folder2/bacon.txt\")"
   ]
  },
  {
   "cell_type": "code",
   "execution_count": 22,
   "metadata": {},
   "outputs": [],
   "source": [
    "import send2trash\n",
    "file =open(\"text.txt\",\"w\")\n",
    "file.close()\n",
    "\n",
    "send2trash.send2trash(\"text.txt\")"
   ]
  },
  {
   "cell_type": "markdown",
   "metadata": {},
   "source": [
    "## Zip file :\n",
    "compares files into a zip-file and exteract files from a zip"
   ]
  },
  {
   "cell_type": "code",
   "execution_count": 27,
   "metadata": {},
   "outputs": [
    {
     "ename": "FileNotFoundError",
     "evalue": "[Errno 2] No such file or directory: 'zipfile2.zip'",
     "output_type": "error",
     "traceback": [
      "\u001b[1;31m---------------------------------------------------------------------------\u001b[0m",
      "\u001b[1;31mFileNotFoundError\u001b[0m                         Traceback (most recent call last)",
      "Cell \u001b[1;32mIn[27], line 10\u001b[0m\n\u001b[0;32m      7\u001b[0m file\u001b[38;5;241m.\u001b[39mwrite(\u001b[38;5;124m\"\u001b[39m\u001b[38;5;124mcountries-1.csv\u001b[39m\u001b[38;5;124m\"\u001b[39m)\n\u001b[0;32m      8\u001b[0m file\u001b[38;5;241m.\u001b[39mclose()\n\u001b[1;32m---> 10\u001b[0m file \u001b[38;5;241m=\u001b[39m \u001b[43mzipfile\u001b[49m\u001b[38;5;241;43m.\u001b[39;49m\u001b[43mZipFile\u001b[49m\u001b[43m(\u001b[49m\u001b[38;5;124;43m\"\u001b[39;49m\u001b[38;5;124;43mzipfile2.zip\u001b[39;49m\u001b[38;5;124;43m\"\u001b[39;49m\u001b[43m,\u001b[49m\u001b[38;5;124;43m\"\u001b[39;49m\u001b[38;5;124;43mr\u001b[39;49m\u001b[38;5;124;43m\"\u001b[39;49m\u001b[43m)\u001b[49m\n\u001b[0;32m     11\u001b[0m file\u001b[38;5;241m.\u001b[39mextractall()\n\u001b[0;32m     12\u001b[0m file\u001b[38;5;241m.\u001b[39mclose()\n",
      "File \u001b[1;32mc:\\Users\\MOHAMMAD MIRAZ\\AppData\\Local\\Programs\\Python\\Python312\\Lib\\zipfile\\__init__.py:1323\u001b[0m, in \u001b[0;36mZipFile.__init__\u001b[1;34m(self, file, mode, compression, allowZip64, compresslevel, strict_timestamps, metadata_encoding)\u001b[0m\n\u001b[0;32m   1321\u001b[0m \u001b[38;5;28;01mwhile\u001b[39;00m \u001b[38;5;28;01mTrue\u001b[39;00m:\n\u001b[0;32m   1322\u001b[0m     \u001b[38;5;28;01mtry\u001b[39;00m:\n\u001b[1;32m-> 1323\u001b[0m         \u001b[38;5;28mself\u001b[39m\u001b[38;5;241m.\u001b[39mfp \u001b[38;5;241m=\u001b[39m \u001b[43mio\u001b[49m\u001b[38;5;241;43m.\u001b[39;49m\u001b[43mopen\u001b[49m\u001b[43m(\u001b[49m\u001b[43mfile\u001b[49m\u001b[43m,\u001b[49m\u001b[43m \u001b[49m\u001b[43mfilemode\u001b[49m\u001b[43m)\u001b[49m\n\u001b[0;32m   1324\u001b[0m     \u001b[38;5;28;01mexcept\u001b[39;00m \u001b[38;5;167;01mOSError\u001b[39;00m:\n\u001b[0;32m   1325\u001b[0m         \u001b[38;5;28;01mif\u001b[39;00m filemode \u001b[38;5;129;01min\u001b[39;00m modeDict:\n",
      "\u001b[1;31mFileNotFoundError\u001b[0m: [Errno 2] No such file or directory: 'zipfile2.zip'"
     ]
    }
   ],
   "source": [
    "\n",
    "\n",
    "import zipfile, os\n",
    "from pathlib import Path\n",
    "\n",
    "file = zipfile.ZipFile(\"zipfile.zip\",\"w\")\n",
    "file.write(\"e-mail-1.txt\")\n",
    "file.write(\"text.txt\")\n",
    "file.write(\"countries-1.csv\")\n",
    "file.close()\n",
    "\n",
    "file = zipfile.ZipFile(\"zipfile2.zip\",\"r\")\n",
    "file.extractall()\n",
    "file.close()\n",
    "\n"
   ]
  },
  {
   "cell_type": "markdown",
   "metadata": {},
   "source": [
    "work on csv--> ex counties.csv\n",
    "read countries.csv and\n",
    " - extract info for specific country --> print \n",
    " - find country with largest area --> print name and area\n",
    " - find country with largest area --> print name and area\n"
   ]
  }
 ],
 "metadata": {
  "kernelspec": {
   "display_name": "Python 3",
   "language": "python",
   "name": "python3"
  },
  "language_info": {
   "codemirror_mode": {
    "name": "ipython",
    "version": 3
   },
   "file_extension": ".py",
   "mimetype": "text/x-python",
   "name": "python",
   "nbconvert_exporter": "python",
   "pygments_lexer": "ipython3",
   "version": "3.12.2"
  }
 },
 "nbformat": 4,
 "nbformat_minor": 2
}
